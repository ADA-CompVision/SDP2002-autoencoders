{
  "nbformat": 4,
  "nbformat_minor": 0,
  "metadata": {
    "colab": {
      "provenance": []
    },
    "kernelspec": {
      "name": "python3",
      "display_name": "Python 3"
    },
    "language_info": {
      "name": "python"
    }
  },
  "cells": [
    {
      "cell_type": "code",
      "source": [
        "import numpy as np\n",
        "\n",
        "import torch\n",
        "import torch.nn as nn\n",
        "import torch.nn.functional as F\n",
        "\n",
        "import sys\n",
        "\n",
        "\n",
        "\n",
        "import matplotlib.pyplot as plt\n",
        "from IPython import display\n",
        "display.set_matplotlib_formats('svg')\n",
        "\n",
        "\n",
        "device = torch.device('cuda' if torch.cuda.is_available() else 'cpu')"
      ],
      "metadata": {
        "id": "K8cTym7aTmyD"
      },
      "execution_count": null,
      "outputs": []
    },
    {
      "cell_type": "code",
      "source": [
        "#importing the data and implementing the normalization\n",
        "data = np.loadtxt(open('sample_data/mnist_train_small.csv','rb'),delimiter=',')\n",
        "labels = data[:,0]\n",
        "data = data[:,1:]\n",
        "#dataNorm = data / np.max(data)\n",
        "dataNorm = data / np.max(data)\n",
        "dataNorm = 2*dataNorm - 1\n",
        "\n",
        "\n",
        "dataT = torch.tensor( dataNorm ).float()\n",
        "labelsT=torch.tensor( labels ).long()\n",
        "\n",
        "batchsize = 100"
      ],
      "metadata": {
        "id": "EdZN9fD3T338"
      },
      "execution_count": null,
      "outputs": []
    },
    {
      "cell_type": "code",
      "source": [
        "\n",
        "class discriminatorNet(nn.Module):\n",
        "  def __init__(self):\n",
        "    super().__init__()\n",
        "    \n",
        "    self.fc1 = nn.Linear(28*28,256)\n",
        "    self.fc2 = nn.Linear(256,256)\n",
        "    self.out = nn.Linear(256,1)\n",
        "\n",
        "  def forward(self,x):\n",
        "    x = F.leaky_relu( self.fc1(x) )\n",
        "    x = F.leaky_relu( self.fc2(x) )\n",
        "    x = self.out(x)\n",
        "    return torch.sigmoid( x )\n",
        "\n",
        "dnet = discriminatorNet()\n",
        "y = dnet(torch.randn(10,784))\n",
        "y"
      ],
      "metadata": {
        "id": "zk1aXTNLT6gH"
      },
      "execution_count": null,
      "outputs": []
    },
    {
      "cell_type": "code",
      "source": [
        "\n",
        "class generatorNet(nn.Module):\n",
        "  def __init__(self):\n",
        "    super().__init__()\n",
        "    \n",
        "    self.fc1 = nn.Linear(64,256)\n",
        "    self.fc2 = nn.Linear(256,256)\n",
        "    self.out = nn.Linear(256,784)\n",
        "\n",
        "  def forward(self,x):\n",
        "    x = F.leaky_relu( self.fc1(x) )\n",
        "    x = F.leaky_relu( self.fc2(x) )\n",
        "    x = self.out(x)\n",
        "    return torch.tanh( x )\n",
        "\n",
        "\n",
        "     "
      ],
      "metadata": {
        "id": "gshKcuztT8xd"
      },
      "execution_count": null,
      "outputs": []
    },
    {
      "cell_type": "code",
      "source": [
        "#training the model\n",
        "lossfun = nn.BCELoss()\n",
        "\n",
        "\n",
        "dnet = discriminatorNet().to(device)\n",
        "gnet = generatorNet().to(device)\n",
        "\n",
        "\n",
        "d_optimizer = torch.optim.Adam(dnet.parameters(), lr=.0003)\n",
        "g_optimizer = torch.optim.Adam(gnet.parameters(), lr=.0003)\n",
        "     "
      ],
      "metadata": {
        "id": "RRQ_6bepT-65"
      },
      "execution_count": null,
      "outputs": []
    },
    {
      "cell_type": "code",
      "source": [
        "num_epochs = 50000\n",
        "\n",
        "losses  = np.zeros((num_epochs,2))\n",
        "disDecs = np.zeros((num_epochs,2)) \n",
        "\n",
        "for epochi in range(num_epochs):\n",
        "    \n",
        "\n",
        "  randidx     = torch.randint(dataT.shape[0],(batchsize,))\n",
        "  real_images = dataT[randidx,:].to(device)\n",
        "  fake_images = gnet( torch.randn(batchsize,64).to(device) ) \n",
        "\n",
        "\n",
        "\n",
        "  real_labels = torch.ones(batchsize,1).to(device)\n",
        "  fake_labels = torch.zeros(batchsize,1).to(device)\n",
        "\n",
        "\n",
        "\n",
        "\n",
        "  pred_real   = dnet(real_images)              \n",
        "  d_loss_real = lossfun(pred_real,real_labels) \n",
        "  \n",
        "\n",
        "  pred_fake   = dnet(fake_images)\n",
        "  d_loss_fake = lossfun(pred_fake,fake_labels)\n",
        "  \n",
        " \n",
        "  d_loss = d_loss_real + d_loss_fake\n",
        "  losses[epochi,0]  = d_loss.item()\n",
        "  disDecs[epochi,0] = torch.mean((pred_real>.5).float()).detach()\n",
        "\n",
        "\n",
        "  d_optimizer.zero_grad()\n",
        "  d_loss.backward()\n",
        "  d_optimizer.step()\n",
        "\n",
        "  \n",
        "  \n",
        "\n",
        "  ### Train the generator \n",
        "\n",
        "\n",
        "  fake_images = gnet( torch.randn(batchsize,64).to(device) )\n",
        "  pred_fake   = dnet(fake_images)\n",
        "  \n",
        "\n",
        "  g_loss = lossfun(pred_fake,real_labels)\n",
        "  losses[epochi,1]  = g_loss.item()\n",
        "  disDecs[epochi,1] = torch.mean((pred_fake>.5).float()).detach()\n",
        "\n",
        "  g_optimizer.zero_grad()\n",
        "  g_loss.backward()\n",
        "  g_optimizer.step()\n",
        "\n",
        "\n",
        "  if (epochi+1)%500==0:\n",
        "    msg = f'Finished epoch {epochi+1}/{num_epochs}'\n",
        "    sys.stdout.write('\\r' + msg)\n",
        "  "
      ],
      "metadata": {
        "id": "w-1tiT0JUAuy"
      },
      "execution_count": null,
      "outputs": []
    },
    {
      "cell_type": "code",
      "source": [
        "#implement the visualization of losses\n",
        "fig,ax = plt.subplots(1,3,figsize=(18,5))\n",
        "\n",
        "ax[0].plot(losses)\n",
        "ax[0].set_xlabel('Epochs')\n",
        "ax[0].set_ylabel('Loss')\n",
        "ax[0].set_title('Model loss')\n",
        "ax[0].legend(['Discrimator','Generator'])\n",
        "# ax[0].set_xlim([4000,5000])\n",
        "\n",
        "ax[1].plot(losses[::5,0],losses[::5,1],'k.',alpha=.1)\n",
        "ax[1].set_xlabel('Discriminator loss')\n",
        "ax[1].set_ylabel('Generator loss')\n",
        "\n",
        "ax[2].plot(disDecs)\n",
        "ax[2].set_xlabel('Epochs')\n",
        "ax[2].set_ylabel('Probablity (\"real\")')\n",
        "ax[2].set_title('Discriminator output')\n",
        "ax[2].legend(['Real','Fake'])\n",
        "\n",
        "plt.show()"
      ],
      "metadata": {
        "id": "hgr8oqV3YDnh"
      },
      "execution_count": null,
      "outputs": []
    },
    {
      "cell_type": "code",
      "source": [
        "# generate the images from the generator network\n",
        "gnet.eval()\n",
        "fake_data = gnet(torch.randn(batchsize,64).to(device)).cpu()\n",
        "\n",
        "\n",
        "# and visualize...\n",
        "fig,axs = plt.subplots(4,4,figsize=(6,6))\n",
        "for i,ax in enumerate(axs.flatten()):\n",
        "  ax.imshow(fake_data[i,:].detach().view(28,28),cmap='gray')\n",
        "  ax.axis('off')\n",
        "  #ax.set_title(\"Label: {}\".format(fake_data[i,:,]))\n",
        "\n",
        "plt.show()"
      ],
      "metadata": {
        "id": "lHAeDIJ4YJBN"
      },
      "execution_count": null,
      "outputs": []
    },
    {
      "cell_type": "code",
      "source": [
        "\n",
        "\n",
        "\n",
        "the7s = np.where(labels==7)[0]\n",
        "\n",
        "# draw the first 12\n",
        "fig,axs = plt.subplots(2,6,figsize=(15,6))\n",
        "\n",
        "for i,ax in enumerate(axs.flatten()):\n",
        "  img = np.reshape(data[the7s[i],:],(28,28))\n",
        "  ax.imshow(img,cmap='gray')\n",
        "  ax.axis('off')\n",
        "\n",
        "plt.suptitle(\"Example 7's\",fontsize=20)\n",
        "plt.tight_layout(rect=[0,0,1,.95])\n",
        "plt.show()"
      ],
      "metadata": {
        "id": "lw9rfTZ1YJlH"
      },
      "execution_count": null,
      "outputs": []
    },
    {
      "cell_type": "code",
      "source": [
        "from torch.utils.data import DataLoader,TensorDataset\n",
        "from sklearn.model_selection import train_test_split"
      ],
      "metadata": {
        "id": "Jb-flbJfYMyA"
      },
      "execution_count": null,
      "outputs": []
    },
    {
      "cell_type": "code",
      "source": [
        "# Step 2: use scikitlearn to split the data\n",
        "train_data,test_data, train_labels,test_labels = train_test_split(dataT, labelsT, test_size=.1)\n",
        "\n",
        "\n",
        "# Step 3: convert into PyTorch Datasets\n",
        "train_data = TensorDataset(train_data,train_labels)\n",
        "test_data  = TensorDataset(test_data,test_labels)\n",
        "\n",
        "# Step 4: translate into dataloader objects\n",
        "batchsize    = 32\n",
        "train_loader = DataLoader(train_data,batch_size=batchsize,shuffle=True,drop_last=True)\n",
        "test_loader  = DataLoader(test_data,batch_size=test_data.tensors[0].shape[0])"
      ],
      "metadata": {
        "id": "CpKBEmpqYRLY"
      },
      "execution_count": null,
      "outputs": []
    },
    {
      "cell_type": "code",
      "source": [
        "# create a class for the model\n",
        "def createTheMNISTNet():\n",
        "\n",
        "  class mnistNet(nn.Module):\n",
        "    def __init__(self):\n",
        "      super().__init__()\n",
        "\n",
        "      ### input layer\n",
        "      self.input = nn.Linear(784,64)\n",
        "      \n",
        "      ### hidden layer\n",
        "      self.fc1 = nn.Linear(64,32)\n",
        "      self.fc2 = nn.Linear(32,32)\n",
        "\n",
        "      ### output layer\n",
        "      self.output = nn.Linear(32,10)\n",
        "\n",
        "    # forward pass\n",
        "    def forward(self,x):\n",
        "      x = F.relu( self.input(x) )\n",
        "      x = F.relu( self.fc1(x) )\n",
        "      x = F.relu( self.fc2(x) )\n",
        "      return torch.log_softmax( self.output(x),axis=1 )\n",
        "      # NOTE: log-softmax the output (b/c loss function)\n",
        "  \n",
        "  # create the model instance\n",
        "  net = mnistNet()\n",
        "  \n",
        "  # loss function\n",
        "  lossfun = nn.NLLLoss()\n",
        "\n",
        "  # optimizer\n",
        "  optimizer = torch.optim.SGD(net.parameters(),lr=.01)\n",
        "\n",
        "  return net,lossfun,optimizer"
      ],
      "metadata": {
        "id": "GLfAYZDnYTZg"
      },
      "execution_count": null,
      "outputs": []
    },
    {
      "cell_type": "code",
      "source": [
        "\n",
        "# test the model with one batch\n",
        "net,lossfun,optimizer = createTheMNISTNet()\n",
        "iterator = iter(train_loader)\n",
        "X,y = next(iterator)\n",
        "yHat = net(X)\n",
        "\n",
        "# confirm really binary\n",
        "torch.unique(X)\n",
        "     "
      ],
      "metadata": {
        "id": "D8XCTTzVYVN1"
      },
      "execution_count": null,
      "outputs": []
    },
    {
      "cell_type": "code",
      "source": [
        "def funtion2trainTheModel():\n",
        "\n",
        "  # number of epochs\n",
        "  numepochs = 60\n",
        "  \n",
        "  # create a new model\n",
        "  net,lossfun,optimizer = createTheMNISTNet()\n",
        "\n",
        "  # initialize losses\n",
        "  losses    = torch.zeros(numepochs)\n",
        "  trainAcc  = []\n",
        "  testAcc   = []\n",
        "\n",
        "\n",
        "  # loop over epochs\n",
        "  for epochi in range(numepochs):\n",
        "\n",
        "    # loop over training data batches\n",
        "    batchAcc  = []\n",
        "    batchLoss = []\n",
        "    for X,y in train_loader:\n",
        "\n",
        "      # forward pass and loss\n",
        "      yHat = net(X)\n",
        "      loss = lossfun(yHat,y)\n",
        "\n",
        "      # backprop\n",
        "      optimizer.zero_grad()\n",
        "      loss.backward()\n",
        "      optimizer.step()\n",
        "\n",
        "      # loss from this batch\n",
        "      batchLoss.append(loss.item())\n",
        "\n",
        "      # compute accuracy\n",
        "      matches = torch.argmax(yHat,axis=1) == y     # booleans (false/true)\n",
        "      matchesNumeric = matches.float()             # convert to numbers (0/1)\n",
        "      accuracyPct = 100*torch.mean(matchesNumeric) # average and x100\n",
        "      batchAcc.append( accuracyPct )               # add to list of accuracies\n",
        "    # end of batch loop...\n",
        "\n",
        "    # now that we've trained through the batches, get their average training accuracy\n",
        "    trainAcc.append( np.mean(batchAcc) )\n",
        "\n",
        "    # and get average losses across the batches\n",
        "    losses[epochi] = np.mean(batchLoss)\n",
        "\n",
        "    # test accuracy\n",
        "    X,y = next(iter(test_loader)) # extract X,y from test dataloader\n",
        "    with torch.no_grad(): # deactivates autograd\n",
        "      yHat = net(X)\n",
        "      \n",
        "    # compare the following really long line of code to the training accuracy lines\n",
        "    testAcc.append( 100*torch.mean((torch.argmax(yHat,axis=1)==y).float()) )\n",
        "\n",
        "  # end epochs\n",
        "\n",
        "  # function output\n",
        "  return trainAcc,testAcc,losses,net"
      ],
      "metadata": {
        "id": "Zax7_f9_YYD2"
      },
      "execution_count": null,
      "outputs": []
    },
    {
      "cell_type": "code",
      "source": [
        "\n",
        "trainAcc,testAcc,losses,net = funtion2trainTheModel()\n"
      ],
      "metadata": {
        "id": "75mni0vRYZw3"
      },
      "execution_count": null,
      "outputs": []
    },
    {
      "cell_type": "code",
      "source": [
        "\n",
        "fig,ax = plt.subplots(1,2,figsize=(16,5))\n",
        "\n",
        "ax[0].plot(losses)\n",
        "ax[0].set_xlabel('Epochs')\n",
        "ax[0].set_ylabel('Loss')\n",
        "ax[0].set_ylim([0,3])\n",
        "ax[0].set_title('Model loss')\n",
        "\n",
        "ax[1].plot(trainAcc,label='Train')\n",
        "ax[1].plot(testAcc,label='Test')\n",
        "ax[1].set_xlabel('Epochs')\n",
        "ax[1].set_ylabel('Accuracy (%)')\n",
        "ax[1].set_ylim([10,100])\n",
        "ax[1].set_title(f'Final model test accuracy: {testAcc[-1]:.2f}%')\n",
        "ax[1].legend()\n",
        "\n",
        "plt.show()\n"
      ],
      "metadata": {
        "id": "dhU9BFLgYbwW"
      },
      "execution_count": null,
      "outputs": []
    },
    {
      "cell_type": "code",
      "source": [
        "fake_dataset = TensorDataset(fake_data)\n",
        "     "
      ],
      "metadata": {
        "id": "OfYnQeAdYfTP"
      },
      "execution_count": null,
      "outputs": []
    },
    {
      "cell_type": "code",
      "source": [
        "\n",
        "fake_loader = DataLoader(fake_dataset,batch_size=batchsize,shuffle=False,drop_last=True)"
      ],
      "metadata": {
        "id": "GVR0LfW3Ygz7"
      },
      "execution_count": null,
      "outputs": []
    },
    {
      "cell_type": "code",
      "source": [
        "X = next(iter(fake_loader))[0] # note: only need one output, hence the [0]\n",
        "predictions = net(X).detach()\n",
        "\n",
        "# save the model guesses\n",
        "guesses = torch.argmax(predictions,axis=1).detach()"
      ],
      "metadata": {
        "id": "8EOIAD8eYj7G"
      },
      "execution_count": null,
      "outputs": []
    },
    {
      "cell_type": "code",
      "source": [
        "#visualise the guesses\n",
        "fig,axs = plt.subplots(3,4,figsize=(10,6))\n",
        "\n",
        "someRandom7s = np.random.choice(len(X),12)\n",
        "\n",
        "for i,ax in enumerate(axs.flatten()):\n",
        "\n",
        "  thisimg = X[ someRandom7s[i] ].detach().view(28,28)\n",
        "  ax.imshow(thisimg,cmap='gray')\n",
        "  ax.set_title(f'The number {guesses[ someRandom7s[i] ]}')\n",
        "  ax.axis('off')\n",
        "\n",
        "plt.tight_layout()\n",
        "plt.show()"
      ],
      "metadata": {
        "id": "ey6-G0EzYm4I"
      },
      "execution_count": null,
      "outputs": []
    }
  ]
}