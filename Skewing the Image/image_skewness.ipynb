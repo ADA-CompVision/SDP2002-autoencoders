

import cv2
import numpy as np

from skimage import io
from skimage import transform as tf

# Load the image as a matrix
image = io.imread("/content/input.jpeg")

# Create Afine transform
afine_tf = tf.AffineTransform(shear=-0.2)

# Apply transform to image data
modified = tf.warp(image, inverse_map=afine_tf)

# Display the result
io.imshow(modified)
io.show()


# Load the image
img = cv2.imread("/content/input.jpeg")

# Get image height and width
h, w = img.shape[:2]

# Define the transformation matrix
M = np.float32([[1, 0.2, 100], [0, 1, 50]])

# Apply the skew transformation
skewed = cv2.warpAffine(img, M, (w, h))

C= np.float32([[1, 0, 100], [0, 1, 30]])
shifted = cv2.warpAffine(img, C, (w, h))
cv2.imwrite("shifted.jpg", shifted)

# Save the result
cv2.imwrite("skewed.jpeg", skewed)




# Load the image
img = cv2.imread("/content/input.jpeg")

# Define the scaling factor
scale_factor = 0.8

# Get the scaling dimensions
scaled_dim = (int(img.shape[1] * scale_factor), int(img.shape[0] * scale_factor))

# Resize the image
scaled_img = cv2.resize(img, scaled_dim, interpolation = cv2.INTER_AREA)

# Save the result
cv2.imwrite("scaled_image.jpeg", scaled_img)
